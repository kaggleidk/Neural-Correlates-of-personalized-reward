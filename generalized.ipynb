{
 "cells": [
  {
   "cell_type": "code",
   "execution_count": 1,
   "id": "dbd796b6-5cb2-4200-9280-f96f08be471c",
   "metadata": {},
   "outputs": [],
   "source": [
    "import os\n",
    "import openpyxl"
   ]
  },
  {
   "cell_type": "code",
   "execution_count": 13,
   "id": "55dc73a9-5243-4fd2-832a-ba34e87081cd",
   "metadata": {},
   "outputs": [],
   "source": [
    "'''short script to add generalized set to excel sheet'''\n",
    "wb = openpyxl.load_workbook('interview_info.xlsx')\n",
    "\n",
    "if 'general' not in wb.sheetnames:\n",
    "    wb.create_sheet('general')\n",
    "\n",
    "sh = wb['general']\n",
    "\n",
    "img_path = 'general/RP_2runs/stimuli_run1'\n",
    "imgs = os.listdir(img_path)\n",
    "#filter out wheel\n",
    "imgs = [x for x in imgs if 'test' not in x]\n",
    "\n",
    "#headers\n",
    "headers = ['image', 'valence', 'description']\n",
    "for i, h in enumerate(headers):\n",
    "    sh.cell(row=1, column=i + 1).value = h\n",
    "\n",
    "for i, img in enumerate(imgs):\n",
    "    sh.cell(row=i + 2, column=1).value = img\n",
    "    \n",
    "\n",
    "wb.save('interview_info.xlsx')\n",
    "wb.close()"
   ]
  },
  {
   "cell_type": "code",
   "execution_count": 6,
   "id": "e79d5185-a3ed-4b12-8efb-ef8b36526d7d",
   "metadata": {},
   "outputs": [
    {
     "data": {
      "text/plain": [
       "65"
      ]
     },
     "execution_count": 6,
     "metadata": {},
     "output_type": "execute_result"
    }
   ],
   "source": [
    "len(os.listdir(img_path))\n"
   ]
  },
  {
   "cell_type": "code",
   "execution_count": null,
   "id": "f62efc74-abdc-4002-bf64-c134a610b3e9",
   "metadata": {},
   "outputs": [],
   "source": []
  }
 ],
 "metadata": {
  "kernelspec": {
   "display_name": "Python 3 (ipykernel)",
   "language": "python",
   "name": "python3"
  },
  "language_info": {
   "codemirror_mode": {
    "name": "ipython",
    "version": 3
   },
   "file_extension": ".py",
   "mimetype": "text/x-python",
   "name": "python",
   "nbconvert_exporter": "python",
   "pygments_lexer": "ipython3",
   "version": "3.13.3"
  }
 },
 "nbformat": 4,
 "nbformat_minor": 5
}
