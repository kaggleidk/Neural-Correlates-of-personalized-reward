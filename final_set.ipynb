{
 "cells": [
  {
   "cell_type": "code",
   "execution_count": 2,
   "id": "8203ae11-30c0-46d5-9b71-f03897d0bc0a",
   "metadata": {},
   "outputs": [],
   "source": [
    "import os\n",
    "from openpyxl.utils import get_column_letter\n",
    "import openpyxl"
   ]
  },
  {
   "cell_type": "code",
   "execution_count": 3,
   "id": "713df191-96c4-469d-acf3-6201e6fff7a5",
   "metadata": {},
   "outputs": [],
   "source": [
    "def get_row_values(sh, row):\n",
    "    max_col = sh.max_column\n",
    "    col_values = []\n",
    "    for i in range(1, max_col+1):\n",
    "        col_values = col_values + [sh.cell(row=row, column=i).value]\n",
    "\n",
    "    return col_values"
   ]
  },
  {
   "cell_type": "code",
   "execution_count": 4,
   "id": "e8a82177-24e4-4b47-839a-b6ecfb00d559",
   "metadata": {},
   "outputs": [],
   "source": [
    "def check_set(participant):\n",
    "    participant = participant\n",
    "    final_set = f'batch/{participant}/good'\n",
    "    #load images as list\n",
    "    final_set_list = os.listdir(final_set)\n",
    "    #get set number\n",
    "    s = [x.split('.')[0] for x in final_set_list]\n",
    "    sets = [x.split('_')[:2] for x in s]\n",
    "    final_sets = ['_'.join(x) for x in sets]\n",
    "    \n",
    "    print(len(final_sets))\n",
    "    if '.ipynb_checkpoints' in final_sets:\n",
    "        final_sets.remove('.ipynb_checkpoints')\n",
    "    print('.ipynb_checkpoints' in final_sets)\n",
    "    #print(final_sets)\n",
    "    excel = 'interview_info.xlsx'\n",
    "    counter = 0\n",
    "    wb = openpyxl.load_workbook(excel)\n",
    "    sh = wb[participant]\n",
    "    \n",
    "    header_row = 1\n",
    "    vals = get_row_values(sh, header_row)\n",
    "    valence_col = vals.index('valence') + 1\n",
    "    set_col = vals.index('sets') + 1\n",
    "    #create lists of valences and sets\n",
    "    vl = sh[get_column_letter(valence_col)]\n",
    "    valence_list = [x.value for x in vl]\n",
    "    sl = sh[get_column_letter(set_col)]\n",
    "    sets_list = [ x.value for x in sl]\n",
    "    #pairs = list(zip(sets_list, valence_list))\n",
    "    possible = ['-', '+', '=']\n",
    "    possible_text = ['negative', 'positive', 'undetermined']\n",
    "    valences = []\n",
    "    print(len(final_sets))\n",
    "    for s in final_sets:\n",
    "        if s == '': continue\n",
    "        #print(valence_list[sets_list.index(s)], s)\n",
    "        valences.append(valence_list[sets_list.index(s)])\n",
    "    \n",
    "    counted = [valences.count(p) for p in possible]\n",
    "    ratios = list(zip(counted, possible_text))   \n",
    "    return ratios"
   ]
  },
  {
   "cell_type": "code",
   "execution_count": 5,
   "id": "19a76645-25a6-4519-a2c9-3b14e44f7bde",
   "metadata": {},
   "outputs": [
    {
     "name": "stdout",
     "output_type": "stream",
     "text": [
      "56\n",
      "False\n",
      "56\n"
     ]
    },
    {
     "data": {
      "text/plain": [
       "[(28, 'negative'), (28, 'positive'), (0, 'undetermined')]"
      ]
     },
     "execution_count": 5,
     "metadata": {},
     "output_type": "execute_result"
    }
   ],
   "source": [
    "check_set('010')"
   ]
  },
  {
   "cell_type": "code",
   "execution_count": null,
   "id": "20120185-09a7-4121-801c-b3fa09d18657",
   "metadata": {},
   "outputs": [],
   "source": []
  },
  {
   "cell_type": "code",
   "execution_count": null,
   "id": "6c26954d-24c9-4358-a79e-4aa539092b69",
   "metadata": {},
   "outputs": [],
   "source": []
  }
 ],
 "metadata": {
  "kernelspec": {
   "display_name": "Python 3 (ipykernel)",
   "language": "python",
   "name": "python3"
  },
  "language_info": {
   "codemirror_mode": {
    "name": "ipython",
    "version": 3
   },
   "file_extension": ".py",
   "mimetype": "text/x-python",
   "name": "python",
   "nbconvert_exporter": "python",
   "pygments_lexer": "ipython3",
   "version": "3.13.3"
  }
 },
 "nbformat": 4,
 "nbformat_minor": 5
}
